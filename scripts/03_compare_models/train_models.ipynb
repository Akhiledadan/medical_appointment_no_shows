{
 "cells": [
  {
   "cell_type": "code",
   "execution_count": 9,
   "metadata": {},
   "outputs": [
    {
     "data": {
      "text/html": [
       "<div>\n",
       "<style scoped>\n",
       "    .dataframe tbody tr th:only-of-type {\n",
       "        vertical-align: middle;\n",
       "    }\n",
       "\n",
       "    .dataframe tbody tr th {\n",
       "        vertical-align: top;\n",
       "    }\n",
       "\n",
       "    .dataframe thead th {\n",
       "        text-align: right;\n",
       "    }\n",
       "</style>\n",
       "<table border=\"1\" class=\"dataframe\">\n",
       "  <thead>\n",
       "    <tr style=\"text-align: right;\">\n",
       "      <th></th>\n",
       "      <th>Gender</th>\n",
       "      <th>Age</th>\n",
       "      <th>Scholarship</th>\n",
       "      <th>Hipertension</th>\n",
       "      <th>Diabetes</th>\n",
       "      <th>Alcoholism</th>\n",
       "      <th>Handcap</th>\n",
       "      <th>SMS_received</th>\n",
       "      <th>AppDay_weekend</th>\n",
       "      <th>DayDiff</th>\n",
       "      <th>MissedApp</th>\n",
       "    </tr>\n",
       "    <tr>\n",
       "      <th>AppointmentID</th>\n",
       "      <th></th>\n",
       "      <th></th>\n",
       "      <th></th>\n",
       "      <th></th>\n",
       "      <th></th>\n",
       "      <th></th>\n",
       "      <th></th>\n",
       "      <th></th>\n",
       "      <th></th>\n",
       "      <th></th>\n",
       "      <th></th>\n",
       "    </tr>\n",
       "  </thead>\n",
       "  <tbody>\n",
       "    <tr>\n",
       "      <th>1791</th>\n",
       "      <td>1</td>\n",
       "      <td>25</td>\n",
       "      <td>0</td>\n",
       "      <td>0</td>\n",
       "      <td>0</td>\n",
       "      <td>0</td>\n",
       "      <td>0</td>\n",
       "      <td>0</td>\n",
       "      <td>0</td>\n",
       "      <td>0</td>\n",
       "      <td>0</td>\n",
       "    </tr>\n",
       "    <tr>\n",
       "      <th>81170</th>\n",
       "      <td>0</td>\n",
       "      <td>11</td>\n",
       "      <td>0</td>\n",
       "      <td>0</td>\n",
       "      <td>0</td>\n",
       "      <td>0</td>\n",
       "      <td>0</td>\n",
       "      <td>0</td>\n",
       "      <td>0</td>\n",
       "      <td>0</td>\n",
       "      <td>0</td>\n",
       "    </tr>\n",
       "    <tr>\n",
       "      <th>83988</th>\n",
       "      <td>1</td>\n",
       "      <td>23</td>\n",
       "      <td>0</td>\n",
       "      <td>0</td>\n",
       "      <td>0</td>\n",
       "      <td>0</td>\n",
       "      <td>0</td>\n",
       "      <td>0</td>\n",
       "      <td>0</td>\n",
       "      <td>0</td>\n",
       "      <td>1</td>\n",
       "    </tr>\n",
       "    <tr>\n",
       "      <th>40659</th>\n",
       "      <td>1</td>\n",
       "      <td>5</td>\n",
       "      <td>0</td>\n",
       "      <td>0</td>\n",
       "      <td>0</td>\n",
       "      <td>0</td>\n",
       "      <td>0</td>\n",
       "      <td>0</td>\n",
       "      <td>0</td>\n",
       "      <td>0</td>\n",
       "      <td>0</td>\n",
       "    </tr>\n",
       "    <tr>\n",
       "      <th>27567</th>\n",
       "      <td>1</td>\n",
       "      <td>46</td>\n",
       "      <td>0</td>\n",
       "      <td>0</td>\n",
       "      <td>0</td>\n",
       "      <td>0</td>\n",
       "      <td>0</td>\n",
       "      <td>1</td>\n",
       "      <td>0</td>\n",
       "      <td>12</td>\n",
       "      <td>2</td>\n",
       "    </tr>\n",
       "  </tbody>\n",
       "</table>\n",
       "</div>"
      ],
      "text/plain": [
       "               Gender  Age  Scholarship  Hipertension  Diabetes  Alcoholism  \\\n",
       "AppointmentID                                                                 \n",
       "1791                1   25            0             0         0           0   \n",
       "81170               0   11            0             0         0           0   \n",
       "83988               1   23            0             0         0           0   \n",
       "40659               1    5            0             0         0           0   \n",
       "27567               1   46            0             0         0           0   \n",
       "\n",
       "               Handcap  SMS_received  AppDay_weekend  DayDiff  MissedApp  \n",
       "AppointmentID                                                             \n",
       "1791                 0             0               0        0          0  \n",
       "81170                0             0               0        0          0  \n",
       "83988                0             0               0        0          1  \n",
       "40659                0             0               0        0          0  \n",
       "27567                0             1               0       12          2  "
      ]
     },
     "execution_count": 9,
     "metadata": {},
     "output_type": "execute_result"
    }
   ],
   "source": [
    "# Read in data\n",
    "import joblib\n",
    "import matplotlib.pyplot as plt\n",
    "import numpy as np\n",
    "import pandas as pd\n",
    "import seaborn as sns\n",
    "from sklearn.ensemble import RandomForestClassifier\n",
    "from sklearn.ensemble import GradientBoostingClassifier\n",
    "from sklearn.linear_model import LogisticRegression\n",
    "from sklearn.svm import SVC\n",
    "from sklearn.model_selection import GridSearchCV\n",
    "%matplotlib inline\n",
    "\n",
    "train_features = pd.read_csv('../../data/split_data/train_features.csv', index_col='AppointmentID')\n",
    "train_labels = pd.read_csv('../../data/split_data/train_labels.csv', index_col='AppointmentID')\n",
    "\n",
    "train_features.head()"
   ]
  },
  {
   "cell_type": "code",
   "execution_count": 10,
   "metadata": {},
   "outputs": [
    {
     "data": {
      "text/html": [
       "<div>\n",
       "<style scoped>\n",
       "    .dataframe tbody tr th:only-of-type {\n",
       "        vertical-align: middle;\n",
       "    }\n",
       "\n",
       "    .dataframe tbody tr th {\n",
       "        vertical-align: top;\n",
       "    }\n",
       "\n",
       "    .dataframe thead th {\n",
       "        text-align: right;\n",
       "    }\n",
       "</style>\n",
       "<table border=\"1\" class=\"dataframe\">\n",
       "  <thead>\n",
       "    <tr style=\"text-align: right;\">\n",
       "      <th></th>\n",
       "      <th>No-show</th>\n",
       "    </tr>\n",
       "    <tr>\n",
       "      <th>AppointmentID</th>\n",
       "      <th></th>\n",
       "    </tr>\n",
       "  </thead>\n",
       "  <tbody>\n",
       "    <tr>\n",
       "      <th>1791</th>\n",
       "      <td>0</td>\n",
       "    </tr>\n",
       "    <tr>\n",
       "      <th>81170</th>\n",
       "      <td>0</td>\n",
       "    </tr>\n",
       "    <tr>\n",
       "      <th>83988</th>\n",
       "      <td>0</td>\n",
       "    </tr>\n",
       "    <tr>\n",
       "      <th>40659</th>\n",
       "      <td>0</td>\n",
       "    </tr>\n",
       "    <tr>\n",
       "      <th>27567</th>\n",
       "      <td>1</td>\n",
       "    </tr>\n",
       "  </tbody>\n",
       "</table>\n",
       "</div>"
      ],
      "text/plain": [
       "               No-show\n",
       "AppointmentID         \n",
       "1791                 0\n",
       "81170                0\n",
       "83988                0\n",
       "40659                0\n",
       "27567                1"
      ]
     },
     "execution_count": 10,
     "metadata": {},
     "output_type": "execute_result"
    }
   ],
   "source": [
    "train_labels.head()"
   ]
  },
  {
   "cell_type": "code",
   "execution_count": 11,
   "metadata": {},
   "outputs": [
    {
     "data": {
      "text/plain": [
       "<AxesSubplot:>"
      ]
     },
     "execution_count": 11,
     "metadata": {},
     "output_type": "execute_result"
    },
    {
     "data": {
      "image/png": "[encoded data removed]",
      "text/plain": [
       "<Figure size 432x288 with 2 Axes>"
      ]
     },
     "metadata": {
      "needs_background": "light"
     },
     "output_type": "display_data"
    }
   ],
   "source": [
    "# Check if there are correlation between the features. Ideally, if there features which are highly correlated, we can \n",
    "# only using one of them instead of both. \n",
    "matrix = np.triu(train_features.corr())\n",
    "sns.heatmap(train_features.corr(), annot=True, fmt='.1f', mask=matrix)"
   ]
  },
  {
   "cell_type": "markdown",
   "metadata": {},
   "source": [
    "### 1. Random forest model"
   ]
  },
  {
   "cell_type": "code",
   "execution_count": 12,
   "metadata": {},
   "outputs": [],
   "source": [
    "def print_results(results):\n",
    "    print('BEST PARAMS: {}\\n'.format(results.best_params_))\n",
    "\n",
    "    means = results.cv_results_['mean_test_score']\n",
    "    stds = results.cv_results_['std_test_score']\n",
    "    for mean, std, params in zip(means, stds, results.cv_results_['params']):\n",
    "        print('{} (+/-{}) for {}'.format(round(mean, 3), round(std * 2, 3), params))"
   ]
  },
  {
   "cell_type": "code",
   "execution_count": 13,
   "metadata": {},
   "outputs": [
    {
     "name": "stdout",
     "output_type": "stream",
     "text": [
      "BEST PARAMS: {'max_depth': 8, 'n_estimators': 64}\n",
      "\n",
      "0.833 (+/-0.059) for {'max_depth': 2, 'n_estimators': 8}\n",
      "0.854 (+/-0.101) for {'max_depth': 2, 'n_estimators': 16}\n",
      "0.817 (+/-0.049) for {'max_depth': 2, 'n_estimators': 32}\n",
      "0.813 (+/-0.034) for {'max_depth': 2, 'n_estimators': 64}\n",
      "0.811 (+/-0.033) for {'max_depth': 2, 'n_estimators': 128}\n",
      "0.8 (+/-0.004) for {'max_depth': 2, 'n_estimators': 256}\n",
      "0.799 (+/-0.004) for {'max_depth': 2, 'n_estimators': 512}\n",
      "0.912 (+/-0.019) for {'max_depth': 4, 'n_estimators': 8}\n",
      "0.919 (+/-0.013) for {'max_depth': 4, 'n_estimators': 16}\n",
      "0.921 (+/-0.009) for {'max_depth': 4, 'n_estimators': 32}\n",
      "0.924 (+/-0.005) for {'max_depth': 4, 'n_estimators': 64}\n",
      "0.924 (+/-0.005) for {'max_depth': 4, 'n_estimators': 128}\n",
      "0.924 (+/-0.005) for {'max_depth': 4, 'n_estimators': 256}\n",
      "0.924 (+/-0.005) for {'max_depth': 4, 'n_estimators': 512}\n",
      "0.924 (+/-0.004) for {'max_depth': 8, 'n_estimators': 8}\n",
      "0.925 (+/-0.005) for {'max_depth': 8, 'n_estimators': 16}\n",
      "0.925 (+/-0.005) for {'max_depth': 8, 'n_estimators': 32}\n",
      "0.925 (+/-0.005) for {'max_depth': 8, 'n_estimators': 64}\n",
      "0.925 (+/-0.005) for {'max_depth': 8, 'n_estimators': 128}\n",
      "0.925 (+/-0.004) for {'max_depth': 8, 'n_estimators': 256}\n",
      "0.925 (+/-0.005) for {'max_depth': 8, 'n_estimators': 512}\n",
      "0.92 (+/-0.003) for {'max_depth': 16, 'n_estimators': 8}\n",
      "0.922 (+/-0.004) for {'max_depth': 16, 'n_estimators': 16}\n",
      "0.922 (+/-0.004) for {'max_depth': 16, 'n_estimators': 32}\n",
      "0.923 (+/-0.004) for {'max_depth': 16, 'n_estimators': 64}\n",
      "0.923 (+/-0.004) for {'max_depth': 16, 'n_estimators': 128}\n",
      "0.923 (+/-0.004) for {'max_depth': 16, 'n_estimators': 256}\n",
      "0.923 (+/-0.004) for {'max_depth': 16, 'n_estimators': 512}\n",
      "0.903 (+/-0.002) for {'max_depth': 32, 'n_estimators': 8}\n",
      "0.907 (+/-0.004) for {'max_depth': 32, 'n_estimators': 16}\n",
      "0.909 (+/-0.004) for {'max_depth': 32, 'n_estimators': 32}\n",
      "0.91 (+/-0.004) for {'max_depth': 32, 'n_estimators': 64}\n",
      "0.91 (+/-0.004) for {'max_depth': 32, 'n_estimators': 128}\n",
      "0.911 (+/-0.004) for {'max_depth': 32, 'n_estimators': 256}\n",
      "0.91 (+/-0.003) for {'max_depth': 32, 'n_estimators': 512}\n",
      "0.904 (+/-0.005) for {'max_depth': None, 'n_estimators': 8}\n",
      "0.907 (+/-0.004) for {'max_depth': None, 'n_estimators': 16}\n",
      "0.909 (+/-0.004) for {'max_depth': None, 'n_estimators': 32}\n",
      "0.91 (+/-0.003) for {'max_depth': None, 'n_estimators': 64}\n",
      "0.911 (+/-0.004) for {'max_depth': None, 'n_estimators': 128}\n",
      "0.911 (+/-0.003) for {'max_depth': None, 'n_estimators': 256}\n",
      "0.911 (+/-0.004) for {'max_depth': None, 'n_estimators': 512}\n"
     ]
    }
   ],
   "source": [
    "# Conduct search for best params while running cross-validation (GridSearchCV)\n",
    "rf = RandomForestClassifier()\n",
    "parameters = {\n",
    "    'n_estimators': [2**i for i in range(3, 10)],\n",
    "    'max_depth': [2, 4, 8, 16, 32, None]\n",
    "}\n",
    "\n",
    "cv = GridSearchCV(rf, parameters, cv=5)\n",
    "cv.fit(train_features, train_labels.values.ravel())\n",
    "\n",
    "print_results(cv)"
   ]
  },
  {
   "cell_type": "code",
   "execution_count": 14,
   "metadata": {},
   "outputs": [
    {
     "data": {
      "image/png": "[encoded data removed]",
      "text/plain": [
       "<Figure size 432x288 with 1 Axes>"
      ]
     },
     "metadata": {
      "needs_background": "light"
     },
     "output_type": "display_data"
    }
   ],
   "source": [
    "# Generate feature importance plot\n",
    "feat_imp = cv.best_estimator_.feature_importances_\n",
    "indices = np.argsort(feat_imp)\n",
    "plt.yticks(range(len(indices)), [train_features.columns[i] for i in indices])\n",
    "plt.barh(range(len(indices)), feat_imp[indices], color='r', align='center')\n",
    "plt.show()"
   ]
  },
  {
   "cell_type": "code",
   "execution_count": 15,
   "metadata": {},
   "outputs": [
    {
     "data": {
      "text/plain": [
       "RandomForestClassifier(bootstrap=True, ccp_alpha=0.0, class_weight=None,\n",
       "                       criterion='gini', max_depth=8, max_features='auto',\n",
       "                       max_leaf_nodes=None, max_samples=None,\n",
       "                       min_impurity_decrease=0.0, min_impurity_split=None,\n",
       "                       min_samples_leaf=1, min_samples_split=2,\n",
       "                       min_weight_fraction_leaf=0.0, n_estimators=64,\n",
       "                       n_jobs=None, oob_score=False, random_state=None,\n",
       "                       verbose=0, warm_start=False)"
      ]
     },
     "execution_count": 15,
     "metadata": {},
     "output_type": "execute_result"
    }
   ],
   "source": [
    "cv.best_estimator_"
   ]
  },
  {
   "cell_type": "code",
   "execution_count": 16,
   "metadata": {},
   "outputs": [
    {
     "data": {
      "text/plain": [
       "['../../data/model/rf_model.pkl']"
      ]
     },
     "execution_count": 16,
     "metadata": {},
     "output_type": "execute_result"
    }
   ],
   "source": [
    "# save the model to compare later with the validation set\n",
    "joblib.dump(value=cv.best_estimator_, filename='../../data/model/rf_model.pkl')"
   ]
  },
  {
   "cell_type": "markdown",
   "metadata": {},
   "source": [
    "Looks like only very few features really contribute to the predictions. Ideally we could remove almost 7 features and make the model much more simple"
   ]
  },
  {
   "cell_type": "markdown",
   "metadata": {},
   "source": [
    "### 2. Logistic regression"
   ]
  },
  {
   "cell_type": "code",
   "execution_count": 17,
   "metadata": {},
   "outputs": [
    {
     "name": "stderr",
     "output_type": "stream",
     "text": [
      "c:\\users\\akhil\\envs\\udemy_course\\lib\\site-packages\\sklearn\\linear_model\\_logistic.py:940: ConvergenceWarning: lbfgs failed to converge (status=1):\n",
      "STOP: TOTAL NO. of ITERATIONS REACHED LIMIT.\n",
      "\n",
      "Increase the number of iterations (max_iter) or scale the data as shown in:\n",
      "    https://scikit-learn.org/stable/modules/preprocessing.html\n",
      "Please also refer to the documentation for alternative solver options:\n",
      "    https://scikit-learn.org/stable/modules/linear_model.html#logistic-regression\n",
      "  extra_warning_msg=_LOGISTIC_SOLVER_CONVERGENCE_MSG)\n",
      "c:\\users\\akhil\\envs\\udemy_course\\lib\\site-packages\\sklearn\\linear_model\\_logistic.py:940: ConvergenceWarning: lbfgs failed to converge (status=1):\n",
      "STOP: TOTAL NO. of ITERATIONS REACHED LIMIT.\n",
      "\n",
      "Increase the number of iterations (max_iter) or scale the data as shown in:\n",
      "    https://scikit-learn.org/stable/modules/preprocessing.html\n",
      "Please also refer to the documentation for alternative solver options:\n",
      "    https://scikit-learn.org/stable/modules/linear_model.html#logistic-regression\n",
      "  extra_warning_msg=_LOGISTIC_SOLVER_CONVERGENCE_MSG)\n",
      "c:\\users\\akhil\\envs\\udemy_course\\lib\\site-packages\\sklearn\\linear_model\\_logistic.py:940: ConvergenceWarning: lbfgs failed to converge (status=1):\n",
      "STOP: TOTAL NO. of ITERATIONS REACHED LIMIT.\n",
      "\n",
      "Increase the number of iterations (max_iter) or scale the data as shown in:\n",
      "    https://scikit-learn.org/stable/modules/preprocessing.html\n",
      "Please also refer to the documentation for alternative solver options:\n",
      "    https://scikit-learn.org/stable/modules/linear_model.html#logistic-regression\n",
      "  extra_warning_msg=_LOGISTIC_SOLVER_CONVERGENCE_MSG)\n",
      "c:\\users\\akhil\\envs\\udemy_course\\lib\\site-packages\\sklearn\\linear_model\\_logistic.py:940: ConvergenceWarning: lbfgs failed to converge (status=1):\n",
      "STOP: TOTAL NO. of ITERATIONS REACHED LIMIT.\n",
      "\n",
      "Increase the number of iterations (max_iter) or scale the data as shown in:\n",
      "    https://scikit-learn.org/stable/modules/preprocessing.html\n",
      "Please also refer to the documentation for alternative solver options:\n",
      "    https://scikit-learn.org/stable/modules/linear_model.html#logistic-regression\n",
      "  extra_warning_msg=_LOGISTIC_SOLVER_CONVERGENCE_MSG)\n",
      "c:\\users\\akhil\\envs\\udemy_course\\lib\\site-packages\\sklearn\\linear_model\\_logistic.py:940: ConvergenceWarning: lbfgs failed to converge (status=1):\n",
      "STOP: TOTAL NO. of ITERATIONS REACHED LIMIT.\n",
      "\n",
      "Increase the number of iterations (max_iter) or scale the data as shown in:\n",
      "    https://scikit-learn.org/stable/modules/preprocessing.html\n",
      "Please also refer to the documentation for alternative solver options:\n",
      "    https://scikit-learn.org/stable/modules/linear_model.html#logistic-regression\n",
      "  extra_warning_msg=_LOGISTIC_SOLVER_CONVERGENCE_MSG)\n",
      "c:\\users\\akhil\\envs\\udemy_course\\lib\\site-packages\\sklearn\\linear_model\\_logistic.py:940: ConvergenceWarning: lbfgs failed to converge (status=1):\n",
      "STOP: TOTAL NO. of ITERATIONS REACHED LIMIT.\n",
      "\n",
      "Increase the number of iterations (max_iter) or scale the data as shown in:\n",
      "    https://scikit-learn.org/stable/modules/preprocessing.html\n",
      "Please also refer to the documentation for alternative solver options:\n",
      "    https://scikit-learn.org/stable/modules/linear_model.html#logistic-regression\n",
      "  extra_warning_msg=_LOGISTIC_SOLVER_CONVERGENCE_MSG)\n",
      "c:\\users\\akhil\\envs\\udemy_course\\lib\\site-packages\\sklearn\\linear_model\\_logistic.py:940: ConvergenceWarning: lbfgs failed to converge (status=1):\n",
      "STOP: TOTAL NO. of ITERATIONS REACHED LIMIT.\n",
      "\n",
      "Increase the number of iterations (max_iter) or scale the data as shown in:\n",
      "    https://scikit-learn.org/stable/modules/preprocessing.html\n",
      "Please also refer to the documentation for alternative solver options:\n",
      "    https://scikit-learn.org/stable/modules/linear_model.html#logistic-regression\n",
      "  extra_warning_msg=_LOGISTIC_SOLVER_CONVERGENCE_MSG)\n",
      "c:\\users\\akhil\\envs\\udemy_course\\lib\\site-packages\\sklearn\\linear_model\\_logistic.py:940: ConvergenceWarning: lbfgs failed to converge (status=1):\n",
      "STOP: TOTAL NO. of ITERATIONS REACHED LIMIT.\n",
      "\n",
      "Increase the number of iterations (max_iter) or scale the data as shown in:\n",
      "    https://scikit-learn.org/stable/modules/preprocessing.html\n",
      "Please also refer to the documentation for alternative solver options:\n",
      "    https://scikit-learn.org/stable/modules/linear_model.html#logistic-regression\n",
      "  extra_warning_msg=_LOGISTIC_SOLVER_CONVERGENCE_MSG)\n",
      "c:\\users\\akhil\\envs\\udemy_course\\lib\\site-packages\\sklearn\\linear_model\\_logistic.py:940: ConvergenceWarning: lbfgs failed to converge (status=1):\n",
      "STOP: TOTAL NO. of ITERATIONS REACHED LIMIT.\n",
      "\n",
      "Increase the number of iterations (max_iter) or scale the data as shown in:\n",
      "    https://scikit-learn.org/stable/modules/preprocessing.html\n",
      "Please also refer to the documentation for alternative solver options:\n",
      "    https://scikit-learn.org/stable/modules/linear_model.html#logistic-regression\n",
      "  extra_warning_msg=_LOGISTIC_SOLVER_CONVERGENCE_MSG)\n",
      "c:\\users\\akhil\\envs\\udemy_course\\lib\\site-packages\\sklearn\\linear_model\\_logistic.py:940: ConvergenceWarning: lbfgs failed to converge (status=1):\n",
      "STOP: TOTAL NO. of ITERATIONS REACHED LIMIT.\n",
      "\n",
      "Increase the number of iterations (max_iter) or scale the data as shown in:\n",
      "    https://scikit-learn.org/stable/modules/preprocessing.html\n",
      "Please also refer to the documentation for alternative solver options:\n",
      "    https://scikit-learn.org/stable/modules/linear_model.html#logistic-regression\n",
      "  extra_warning_msg=_LOGISTIC_SOLVER_CONVERGENCE_MSG)\n",
      "c:\\users\\akhil\\envs\\udemy_course\\lib\\site-packages\\sklearn\\linear_model\\_logistic.py:940: ConvergenceWarning: lbfgs failed to converge (status=1):\n",
      "STOP: TOTAL NO. of ITERATIONS REACHED LIMIT.\n",
      "\n",
      "Increase the number of iterations (max_iter) or scale the data as shown in:\n",
      "    https://scikit-learn.org/stable/modules/preprocessing.html\n",
      "Please also refer to the documentation for alternative solver options:\n",
      "    https://scikit-learn.org/stable/modules/linear_model.html#logistic-regression\n",
      "  extra_warning_msg=_LOGISTIC_SOLVER_CONVERGENCE_MSG)\n",
      "c:\\users\\akhil\\envs\\udemy_course\\lib\\site-packages\\sklearn\\linear_model\\_logistic.py:940: ConvergenceWarning: lbfgs failed to converge (status=1):\n",
      "STOP: TOTAL NO. of ITERATIONS REACHED LIMIT.\n",
      "\n",
      "Increase the number of iterations (max_iter) or scale the data as shown in:\n",
      "    https://scikit-learn.org/stable/modules/preprocessing.html\n",
      "Please also refer to the documentation for alternative solver options:\n",
      "    https://scikit-learn.org/stable/modules/linear_model.html#logistic-regression\n",
      "  extra_warning_msg=_LOGISTIC_SOLVER_CONVERGENCE_MSG)\n",
      "c:\\users\\akhil\\envs\\udemy_course\\lib\\site-packages\\sklearn\\linear_model\\_logistic.py:940: ConvergenceWarning: lbfgs failed to converge (status=1):\n",
      "STOP: TOTAL NO. of ITERATIONS REACHED LIMIT.\n",
      "\n",
      "Increase the number of iterations (max_iter) or scale the data as shown in:\n",
      "    https://scikit-learn.org/stable/modules/preprocessing.html\n",
      "Please also refer to the documentation for alternative solver options:\n",
      "    https://scikit-learn.org/stable/modules/linear_model.html#logistic-regression\n",
      "  extra_warning_msg=_LOGISTIC_SOLVER_CONVERGENCE_MSG)\n",
      "c:\\users\\akhil\\envs\\udemy_course\\lib\\site-packages\\sklearn\\linear_model\\_logistic.py:940: ConvergenceWarning: lbfgs failed to converge (status=1):\n",
      "STOP: TOTAL NO. of ITERATIONS REACHED LIMIT.\n",
      "\n",
      "Increase the number of iterations (max_iter) or scale the data as shown in:\n",
      "    https://scikit-learn.org/stable/modules/preprocessing.html\n",
      "Please also refer to the documentation for alternative solver options:\n",
      "    https://scikit-learn.org/stable/modules/linear_model.html#logistic-regression\n",
      "  extra_warning_msg=_LOGISTIC_SOLVER_CONVERGENCE_MSG)\n",
      "c:\\users\\akhil\\envs\\udemy_course\\lib\\site-packages\\sklearn\\linear_model\\_logistic.py:940: ConvergenceWarning: lbfgs failed to converge (status=1):\n",
      "STOP: TOTAL NO. of ITERATIONS REACHED LIMIT.\n",
      "\n",
      "Increase the number of iterations (max_iter) or scale the data as shown in:\n",
      "    https://scikit-learn.org/stable/modules/preprocessing.html\n",
      "Please also refer to the documentation for alternative solver options:\n",
      "    https://scikit-learn.org/stable/modules/linear_model.html#logistic-regression\n",
      "  extra_warning_msg=_LOGISTIC_SOLVER_CONVERGENCE_MSG)\n",
      "c:\\users\\akhil\\envs\\udemy_course\\lib\\site-packages\\sklearn\\linear_model\\_logistic.py:940: ConvergenceWarning: lbfgs failed to converge (status=1):\n",
      "STOP: TOTAL NO. of ITERATIONS REACHED LIMIT.\n",
      "\n",
      "Increase the number of iterations (max_iter) or scale the data as shown in:\n",
      "    https://scikit-learn.org/stable/modules/preprocessing.html\n",
      "Please also refer to the documentation for alternative solver options:\n",
      "    https://scikit-learn.org/stable/modules/linear_model.html#logistic-regression\n",
      "  extra_warning_msg=_LOGISTIC_SOLVER_CONVERGENCE_MSG)\n"
     ]
    },
    {
     "name": "stderr",
     "output_type": "stream",
     "text": [
      "c:\\users\\akhil\\envs\\udemy_course\\lib\\site-packages\\sklearn\\linear_model\\_logistic.py:940: ConvergenceWarning: lbfgs failed to converge (status=1):\n",
      "STOP: TOTAL NO. of ITERATIONS REACHED LIMIT.\n",
      "\n",
      "Increase the number of iterations (max_iter) or scale the data as shown in:\n",
      "    https://scikit-learn.org/stable/modules/preprocessing.html\n",
      "Please also refer to the documentation for alternative solver options:\n",
      "    https://scikit-learn.org/stable/modules/linear_model.html#logistic-regression\n",
      "  extra_warning_msg=_LOGISTIC_SOLVER_CONVERGENCE_MSG)\n",
      "c:\\users\\akhil\\envs\\udemy_course\\lib\\site-packages\\sklearn\\linear_model\\_logistic.py:940: ConvergenceWarning: lbfgs failed to converge (status=1):\n",
      "STOP: TOTAL NO. of ITERATIONS REACHED LIMIT.\n",
      "\n",
      "Increase the number of iterations (max_iter) or scale the data as shown in:\n",
      "    https://scikit-learn.org/stable/modules/preprocessing.html\n",
      "Please also refer to the documentation for alternative solver options:\n",
      "    https://scikit-learn.org/stable/modules/linear_model.html#logistic-regression\n",
      "  extra_warning_msg=_LOGISTIC_SOLVER_CONVERGENCE_MSG)\n",
      "c:\\users\\akhil\\envs\\udemy_course\\lib\\site-packages\\sklearn\\linear_model\\_logistic.py:940: ConvergenceWarning: lbfgs failed to converge (status=1):\n",
      "STOP: TOTAL NO. of ITERATIONS REACHED LIMIT.\n",
      "\n",
      "Increase the number of iterations (max_iter) or scale the data as shown in:\n",
      "    https://scikit-learn.org/stable/modules/preprocessing.html\n",
      "Please also refer to the documentation for alternative solver options:\n",
      "    https://scikit-learn.org/stable/modules/linear_model.html#logistic-regression\n",
      "  extra_warning_msg=_LOGISTIC_SOLVER_CONVERGENCE_MSG)\n",
      "c:\\users\\akhil\\envs\\udemy_course\\lib\\site-packages\\sklearn\\linear_model\\_logistic.py:940: ConvergenceWarning: lbfgs failed to converge (status=1):\n",
      "STOP: TOTAL NO. of ITERATIONS REACHED LIMIT.\n",
      "\n",
      "Increase the number of iterations (max_iter) or scale the data as shown in:\n",
      "    https://scikit-learn.org/stable/modules/preprocessing.html\n",
      "Please also refer to the documentation for alternative solver options:\n",
      "    https://scikit-learn.org/stable/modules/linear_model.html#logistic-regression\n",
      "  extra_warning_msg=_LOGISTIC_SOLVER_CONVERGENCE_MSG)\n",
      "c:\\users\\akhil\\envs\\udemy_course\\lib\\site-packages\\sklearn\\linear_model\\_logistic.py:940: ConvergenceWarning: lbfgs failed to converge (status=1):\n",
      "STOP: TOTAL NO. of ITERATIONS REACHED LIMIT.\n",
      "\n",
      "Increase the number of iterations (max_iter) or scale the data as shown in:\n",
      "    https://scikit-learn.org/stable/modules/preprocessing.html\n",
      "Please also refer to the documentation for alternative solver options:\n",
      "    https://scikit-learn.org/stable/modules/linear_model.html#logistic-regression\n",
      "  extra_warning_msg=_LOGISTIC_SOLVER_CONVERGENCE_MSG)\n",
      "c:\\users\\akhil\\envs\\udemy_course\\lib\\site-packages\\sklearn\\linear_model\\_logistic.py:940: ConvergenceWarning: lbfgs failed to converge (status=1):\n",
      "STOP: TOTAL NO. of ITERATIONS REACHED LIMIT.\n",
      "\n",
      "Increase the number of iterations (max_iter) or scale the data as shown in:\n",
      "    https://scikit-learn.org/stable/modules/preprocessing.html\n",
      "Please also refer to the documentation for alternative solver options:\n",
      "    https://scikit-learn.org/stable/modules/linear_model.html#logistic-regression\n",
      "  extra_warning_msg=_LOGISTIC_SOLVER_CONVERGENCE_MSG)\n",
      "c:\\users\\akhil\\envs\\udemy_course\\lib\\site-packages\\sklearn\\linear_model\\_logistic.py:940: ConvergenceWarning: lbfgs failed to converge (status=1):\n",
      "STOP: TOTAL NO. of ITERATIONS REACHED LIMIT.\n",
      "\n",
      "Increase the number of iterations (max_iter) or scale the data as shown in:\n",
      "    https://scikit-learn.org/stable/modules/preprocessing.html\n",
      "Please also refer to the documentation for alternative solver options:\n",
      "    https://scikit-learn.org/stable/modules/linear_model.html#logistic-regression\n",
      "  extra_warning_msg=_LOGISTIC_SOLVER_CONVERGENCE_MSG)\n",
      "c:\\users\\akhil\\envs\\udemy_course\\lib\\site-packages\\sklearn\\linear_model\\_logistic.py:940: ConvergenceWarning: lbfgs failed to converge (status=1):\n",
      "STOP: TOTAL NO. of ITERATIONS REACHED LIMIT.\n",
      "\n",
      "Increase the number of iterations (max_iter) or scale the data as shown in:\n",
      "    https://scikit-learn.org/stable/modules/preprocessing.html\n",
      "Please also refer to the documentation for alternative solver options:\n",
      "    https://scikit-learn.org/stable/modules/linear_model.html#logistic-regression\n",
      "  extra_warning_msg=_LOGISTIC_SOLVER_CONVERGENCE_MSG)\n",
      "c:\\users\\akhil\\envs\\udemy_course\\lib\\site-packages\\sklearn\\linear_model\\_logistic.py:940: ConvergenceWarning: lbfgs failed to converge (status=1):\n",
      "STOP: TOTAL NO. of ITERATIONS REACHED LIMIT.\n",
      "\n",
      "Increase the number of iterations (max_iter) or scale the data as shown in:\n",
      "    https://scikit-learn.org/stable/modules/preprocessing.html\n",
      "Please also refer to the documentation for alternative solver options:\n",
      "    https://scikit-learn.org/stable/modules/linear_model.html#logistic-regression\n",
      "  extra_warning_msg=_LOGISTIC_SOLVER_CONVERGENCE_MSG)\n",
      "c:\\users\\akhil\\envs\\udemy_course\\lib\\site-packages\\sklearn\\linear_model\\_logistic.py:940: ConvergenceWarning: lbfgs failed to converge (status=1):\n",
      "STOP: TOTAL NO. of ITERATIONS REACHED LIMIT.\n",
      "\n",
      "Increase the number of iterations (max_iter) or scale the data as shown in:\n",
      "    https://scikit-learn.org/stable/modules/preprocessing.html\n",
      "Please also refer to the documentation for alternative solver options:\n",
      "    https://scikit-learn.org/stable/modules/linear_model.html#logistic-regression\n",
      "  extra_warning_msg=_LOGISTIC_SOLVER_CONVERGENCE_MSG)\n",
      "c:\\users\\akhil\\envs\\udemy_course\\lib\\site-packages\\sklearn\\linear_model\\_logistic.py:940: ConvergenceWarning: lbfgs failed to converge (status=1):\n",
      "STOP: TOTAL NO. of ITERATIONS REACHED LIMIT.\n",
      "\n",
      "Increase the number of iterations (max_iter) or scale the data as shown in:\n",
      "    https://scikit-learn.org/stable/modules/preprocessing.html\n",
      "Please also refer to the documentation for alternative solver options:\n",
      "    https://scikit-learn.org/stable/modules/linear_model.html#logistic-regression\n",
      "  extra_warning_msg=_LOGISTIC_SOLVER_CONVERGENCE_MSG)\n"
     ]
    },
    {
     "name": "stdout",
     "output_type": "stream",
     "text": [
      "BEST PARAMS: {'C': 100}\n",
      "\n",
      "0.833 (+/-0.002) for {'C': 0.001}\n",
      "0.854 (+/-0.003) for {'C': 0.01}\n",
      "0.858 (+/-0.003) for {'C': 0.1}\n",
      "0.859 (+/-0.002) for {'C': 1}\n",
      "0.859 (+/-0.002) for {'C': 10}\n",
      "0.859 (+/-0.002) for {'C': 100}\n",
      "0.859 (+/-0.002) for {'C': 1000}\n"
     ]
    },
    {
     "name": "stderr",
     "output_type": "stream",
     "text": [
      "c:\\users\\akhil\\envs\\udemy_course\\lib\\site-packages\\sklearn\\linear_model\\_logistic.py:940: ConvergenceWarning: lbfgs failed to converge (status=1):\n",
      "STOP: TOTAL NO. of ITERATIONS REACHED LIMIT.\n",
      "\n",
      "Increase the number of iterations (max_iter) or scale the data as shown in:\n",
      "    https://scikit-learn.org/stable/modules/preprocessing.html\n",
      "Please also refer to the documentation for alternative solver options:\n",
      "    https://scikit-learn.org/stable/modules/linear_model.html#logistic-regression\n",
      "  extra_warning_msg=_LOGISTIC_SOLVER_CONVERGENCE_MSG)\n"
     ]
    }
   ],
   "source": [
    "lr = LogisticRegression()\n",
    "parameters = {\n",
    "    'C' : [0.001, 0.01, 0.1, 1, 10, 100, 1000]\n",
    "}\n",
    "\n",
    "cv_lr = GridSearchCV(estimator=lr, param_grid=parameters, cv=5)\n",
    "cv_lr.fit(train_features, train_labels.values.ravel())\n",
    "\n",
    "print_results(cv_lr)"
   ]
  },
  {
   "cell_type": "code",
   "execution_count": 18,
   "metadata": {},
   "outputs": [
    {
     "data": {
      "text/plain": [
       "LogisticRegression(C=100, class_weight=None, dual=False, fit_intercept=True,\n",
       "                   intercept_scaling=1, l1_ratio=None, max_iter=100,\n",
       "                   multi_class='auto', n_jobs=None, penalty='l2',\n",
       "                   random_state=None, solver='lbfgs', tol=0.0001, verbose=0,\n",
       "                   warm_start=False)"
      ]
     },
     "execution_count": 18,
     "metadata": {},
     "output_type": "execute_result"
    }
   ],
   "source": [
    "cv_lr.best_estimator_"
   ]
  },
  {
   "cell_type": "code",
   "execution_count": 19,
   "metadata": {},
   "outputs": [
    {
     "data": {
      "text/plain": [
       "['../../data/model/lr_model.pkl']"
      ]
     },
     "execution_count": 19,
     "metadata": {},
     "output_type": "execute_result"
    }
   ],
   "source": [
    "joblib.dump(value=cv_lr.best_estimator_, filename='../../data/model/lr_model.pkl')"
   ]
  },
  {
   "cell_type": "markdown",
   "metadata": {},
   "source": [
    "### Gradient boosting"
   ]
  },
  {
   "cell_type": "code",
   "execution_count": 20,
   "metadata": {},
   "outputs": [
    {
     "name": "stdout",
     "output_type": "stream",
     "text": [
      "BEST PARAMS: {'learning_rate': 0.01, 'max_depth': 3, 'n_estimators': 250}\n",
      "\n",
      "0.797 (+/-0.0) for {'learning_rate': 0.01, 'max_depth': 1, 'n_estimators': 5}\n",
      "0.797 (+/-0.0) for {'learning_rate': 0.01, 'max_depth': 1, 'n_estimators': 50}\n",
      "0.924 (+/-0.005) for {'learning_rate': 0.01, 'max_depth': 1, 'n_estimators': 250}\n",
      "0.924 (+/-0.005) for {'learning_rate': 0.01, 'max_depth': 1, 'n_estimators': 500}\n",
      "0.797 (+/-0.0) for {'learning_rate': 0.01, 'max_depth': 3, 'n_estimators': 5}\n",
      "0.797 (+/-0.0) for {'learning_rate': 0.01, 'max_depth': 3, 'n_estimators': 50}\n",
      "0.925 (+/-0.004) for {'learning_rate': 0.01, 'max_depth': 3, 'n_estimators': 250}\n",
      "0.925 (+/-0.004) for {'learning_rate': 0.01, 'max_depth': 3, 'n_estimators': 500}\n",
      "0.797 (+/-0.0) for {'learning_rate': 0.01, 'max_depth': 5, 'n_estimators': 5}\n",
      "0.797 (+/-0.0) for {'learning_rate': 0.01, 'max_depth': 5, 'n_estimators': 50}\n",
      "0.925 (+/-0.005) for {'learning_rate': 0.01, 'max_depth': 5, 'n_estimators': 250}\n",
      "0.925 (+/-0.004) for {'learning_rate': 0.01, 'max_depth': 5, 'n_estimators': 500}\n",
      "0.797 (+/-0.0) for {'learning_rate': 0.01, 'max_depth': 7, 'n_estimators': 5}\n",
      "0.798 (+/-0.0) for {'learning_rate': 0.01, 'max_depth': 7, 'n_estimators': 50}\n",
      "0.924 (+/-0.004) for {'learning_rate': 0.01, 'max_depth': 7, 'n_estimators': 250}\n",
      "0.925 (+/-0.004) for {'learning_rate': 0.01, 'max_depth': 7, 'n_estimators': 500}\n",
      "0.797 (+/-0.0) for {'learning_rate': 0.01, 'max_depth': 9, 'n_estimators': 5}\n",
      "0.799 (+/-0.001) for {'learning_rate': 0.01, 'max_depth': 9, 'n_estimators': 50}\n",
      "0.924 (+/-0.004) for {'learning_rate': 0.01, 'max_depth': 9, 'n_estimators': 250}\n",
      "0.924 (+/-0.004) for {'learning_rate': 0.01, 'max_depth': 9, 'n_estimators': 500}\n",
      "0.797 (+/-0.0) for {'learning_rate': 0.1, 'max_depth': 1, 'n_estimators': 5}\n",
      "0.924 (+/-0.005) for {'learning_rate': 0.1, 'max_depth': 1, 'n_estimators': 50}\n",
      "0.925 (+/-0.005) for {'learning_rate': 0.1, 'max_depth': 1, 'n_estimators': 250}\n",
      "0.925 (+/-0.005) for {'learning_rate': 0.1, 'max_depth': 1, 'n_estimators': 500}\n",
      "0.797 (+/-0.0) for {'learning_rate': 0.1, 'max_depth': 3, 'n_estimators': 5}\n",
      "0.925 (+/-0.004) for {'learning_rate': 0.1, 'max_depth': 3, 'n_estimators': 50}\n",
      "0.925 (+/-0.005) for {'learning_rate': 0.1, 'max_depth': 3, 'n_estimators': 250}\n",
      "0.924 (+/-0.004) for {'learning_rate': 0.1, 'max_depth': 3, 'n_estimators': 500}\n",
      "0.798 (+/-0.0) for {'learning_rate': 0.1, 'max_depth': 5, 'n_estimators': 5}\n",
      "0.925 (+/-0.004) for {'learning_rate': 0.1, 'max_depth': 5, 'n_estimators': 50}\n",
      "0.924 (+/-0.004) for {'learning_rate': 0.1, 'max_depth': 5, 'n_estimators': 250}\n",
      "0.923 (+/-0.004) for {'learning_rate': 0.1, 'max_depth': 5, 'n_estimators': 500}\n",
      "0.805 (+/-0.005) for {'learning_rate': 0.1, 'max_depth': 7, 'n_estimators': 5}\n",
      "0.924 (+/-0.004) for {'learning_rate': 0.1, 'max_depth': 7, 'n_estimators': 50}\n",
      "0.923 (+/-0.004) for {'learning_rate': 0.1, 'max_depth': 7, 'n_estimators': 250}\n",
      "0.919 (+/-0.003) for {'learning_rate': 0.1, 'max_depth': 7, 'n_estimators': 500}\n",
      "0.81 (+/-0.005) for {'learning_rate': 0.1, 'max_depth': 9, 'n_estimators': 5}\n",
      "0.924 (+/-0.004) for {'learning_rate': 0.1, 'max_depth': 9, 'n_estimators': 50}\n",
      "0.917 (+/-0.004) for {'learning_rate': 0.1, 'max_depth': 9, 'n_estimators': 250}\n",
      "0.91 (+/-0.005) for {'learning_rate': 0.1, 'max_depth': 9, 'n_estimators': 500}\n",
      "0.925 (+/-0.005) for {'learning_rate': 1, 'max_depth': 1, 'n_estimators': 5}\n",
      "0.925 (+/-0.005) for {'learning_rate': 1, 'max_depth': 1, 'n_estimators': 50}\n",
      "0.925 (+/-0.005) for {'learning_rate': 1, 'max_depth': 1, 'n_estimators': 250}\n",
      "0.924 (+/-0.004) for {'learning_rate': 1, 'max_depth': 1, 'n_estimators': 500}\n",
      "0.925 (+/-0.005) for {'learning_rate': 1, 'max_depth': 3, 'n_estimators': 5}\n",
      "0.923 (+/-0.005) for {'learning_rate': 1, 'max_depth': 3, 'n_estimators': 50}\n",
      "0.922 (+/-0.004) for {'learning_rate': 1, 'max_depth': 3, 'n_estimators': 250}\n",
      "0.92 (+/-0.005) for {'learning_rate': 1, 'max_depth': 3, 'n_estimators': 500}\n",
      "0.924 (+/-0.004) for {'learning_rate': 1, 'max_depth': 5, 'n_estimators': 5}\n",
      "0.92 (+/-0.004) for {'learning_rate': 1, 'max_depth': 5, 'n_estimators': 50}\n",
      "0.914 (+/-0.003) for {'learning_rate': 1, 'max_depth': 5, 'n_estimators': 250}\n",
      "0.911 (+/-0.005) for {'learning_rate': 1, 'max_depth': 5, 'n_estimators': 500}\n",
      "0.922 (+/-0.004) for {'learning_rate': 1, 'max_depth': 7, 'n_estimators': 5}\n",
      "0.912 (+/-0.003) for {'learning_rate': 1, 'max_depth': 7, 'n_estimators': 50}\n",
      "0.906 (+/-0.006) for {'learning_rate': 1, 'max_depth': 7, 'n_estimators': 250}\n",
      "0.904 (+/-0.004) for {'learning_rate': 1, 'max_depth': 7, 'n_estimators': 500}\n",
      "0.918 (+/-0.005) for {'learning_rate': 1, 'max_depth': 9, 'n_estimators': 5}\n",
      "0.906 (+/-0.006) for {'learning_rate': 1, 'max_depth': 9, 'n_estimators': 50}\n",
      "0.905 (+/-0.005) for {'learning_rate': 1, 'max_depth': 9, 'n_estimators': 250}\n",
      "0.901 (+/-0.006) for {'learning_rate': 1, 'max_depth': 9, 'n_estimators': 500}\n",
      "0.797 (+/-0.0) for {'learning_rate': 10, 'max_depth': 1, 'n_estimators': 5}\n",
      "0.797 (+/-0.0) for {'learning_rate': 10, 'max_depth': 1, 'n_estimators': 50}\n",
      "0.797 (+/-0.0) for {'learning_rate': 10, 'max_depth': 1, 'n_estimators': 250}\n",
      "0.797 (+/-0.0) for {'learning_rate': 10, 'max_depth': 1, 'n_estimators': 500}\n",
      "0.809 (+/-0.063) for {'learning_rate': 10, 'max_depth': 3, 'n_estimators': 5}\n",
      "0.809 (+/-0.063) for {'learning_rate': 10, 'max_depth': 3, 'n_estimators': 50}\n",
      "0.809 (+/-0.063) for {'learning_rate': 10, 'max_depth': 3, 'n_estimators': 250}\n",
      "0.809 (+/-0.063) for {'learning_rate': 10, 'max_depth': 3, 'n_estimators': 500}\n",
      "0.808 (+/-0.041) for {'learning_rate': 10, 'max_depth': 5, 'n_estimators': 5}\n",
      "0.808 (+/-0.041) for {'learning_rate': 10, 'max_depth': 5, 'n_estimators': 50}\n",
      "0.808 (+/-0.041) for {'learning_rate': 10, 'max_depth': 5, 'n_estimators': 250}\n",
      "0.808 (+/-0.041) for {'learning_rate': 10, 'max_depth': 5, 'n_estimators': 500}\n",
      "0.816 (+/-0.031) for {'learning_rate': 10, 'max_depth': 7, 'n_estimators': 5}\n",
      "0.818 (+/-0.032) for {'learning_rate': 10, 'max_depth': 7, 'n_estimators': 50}\n",
      "0.818 (+/-0.032) for {'learning_rate': 10, 'max_depth': 7, 'n_estimators': 250}\n",
      "0.818 (+/-0.032) for {'learning_rate': 10, 'max_depth': 7, 'n_estimators': 500}\n",
      "0.827 (+/-0.007) for {'learning_rate': 10, 'max_depth': 9, 'n_estimators': 5}\n",
      "0.83 (+/-0.011) for {'learning_rate': 10, 'max_depth': 9, 'n_estimators': 50}\n",
      "0.83 (+/-0.012) for {'learning_rate': 10, 'max_depth': 9, 'n_estimators': 250}\n",
      "0.828 (+/-0.01) for {'learning_rate': 10, 'max_depth': 9, 'n_estimators': 500}\n",
      "0.898 (+/-0.006) for {'learning_rate': 100, 'max_depth': 1, 'n_estimators': 5}\n",
      "0.898 (+/-0.006) for {'learning_rate': 100, 'max_depth': 1, 'n_estimators': 50}\n",
      "0.898 (+/-0.006) for {'learning_rate': 100, 'max_depth': 1, 'n_estimators': 250}\n",
      "0.898 (+/-0.006) for {'learning_rate': 100, 'max_depth': 1, 'n_estimators': 500}\n",
      "0.919 (+/-0.026) for {'learning_rate': 100, 'max_depth': 3, 'n_estimators': 5}\n",
      "0.919 (+/-0.026) for {'learning_rate': 100, 'max_depth': 3, 'n_estimators': 50}\n",
      "0.919 (+/-0.026) for {'learning_rate': 100, 'max_depth': 3, 'n_estimators': 250}\n",
      "0.919 (+/-0.026) for {'learning_rate': 100, 'max_depth': 3, 'n_estimators': 500}\n",
      "0.922 (+/-0.004) for {'learning_rate': 100, 'max_depth': 5, 'n_estimators': 5}\n",
      "0.922 (+/-0.004) for {'learning_rate': 100, 'max_depth': 5, 'n_estimators': 50}\n",
      "0.922 (+/-0.004) for {'learning_rate': 100, 'max_depth': 5, 'n_estimators': 250}\n",
      "0.922 (+/-0.004) for {'learning_rate': 100, 'max_depth': 5, 'n_estimators': 500}\n",
      "0.901 (+/-0.031) for {'learning_rate': 100, 'max_depth': 7, 'n_estimators': 5}\n",
      "0.901 (+/-0.031) for {'learning_rate': 100, 'max_depth': 7, 'n_estimators': 50}\n",
      "0.904 (+/-0.017) for {'learning_rate': 100, 'max_depth': 7, 'n_estimators': 250}\n",
      "0.901 (+/-0.031) for {'learning_rate': 100, 'max_depth': 7, 'n_estimators': 500}\n",
      "0.886 (+/-0.024) for {'learning_rate': 100, 'max_depth': 9, 'n_estimators': 5}\n",
      "0.886 (+/-0.024) for {'learning_rate': 100, 'max_depth': 9, 'n_estimators': 50}\n",
      "0.887 (+/-0.024) for {'learning_rate': 100, 'max_depth': 9, 'n_estimators': 250}\n",
      "0.888 (+/-0.023) for {'learning_rate': 100, 'max_depth': 9, 'n_estimators': 500}\n"
     ]
    }
   ],
   "source": [
    "gb = GradientBoostingClassifier()\n",
    "parameters = {\n",
    "    'n_estimators': [5, 50, 250, 500],\n",
    "    'max_depth': [1, 3, 5, 7, 9],\n",
    "    'learning_rate': [0.01, 0.1, 1, 10, 100]\n",
    "}\n",
    "\n",
    "cv_gb = GridSearchCV(gb, parameters, cv=5)\n",
    "cv_gb.fit(train_features, train_labels.values.ravel())\n",
    "\n",
    "print_results(cv_gb)"
   ]
  },
  {
   "cell_type": "code",
   "execution_count": 21,
   "metadata": {},
   "outputs": [
    {
     "data": {
      "text/plain": [
       "['../../data/model/gb_model.pkl']"
      ]
     },
     "execution_count": 21,
     "metadata": {},
     "output_type": "execute_result"
    }
   ],
   "source": [
    "joblib.dump(value=cv_gb.best_estimator_, filename='../../data/model/gb_model.pkl')"
   ]
  },
  {
   "cell_type": "code",
   "execution_count": null,
   "metadata": {},
   "outputs": [],
   "source": []
  }
 ],
 "metadata": {
  "kernelspec": {
   "display_name": "Python 3",
   "language": "python",
   "name": "python3"
  },
  "language_info": {
   "codemirror_mode": {
    "name": "ipython",
    "version": 3
   },
   "file_extension": ".py",
   "mimetype": "text/x-python",
   "name": "python",
   "nbconvert_exporter": "python",
   "pygments_lexer": "ipython3",
   "version": "3.6.8"
  }
 },
 "nbformat": 4,
 "nbformat_minor": 4
}
